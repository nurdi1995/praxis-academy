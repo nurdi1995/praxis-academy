{
 "cells": [
  {
   "cell_type": "code",
   "execution_count": 50,
   "metadata": {},
   "outputs": [
    {
     "name": "stdout",
     "output_type": "stream",
     "text": [
      "Hallo ini adalah fungsi\n"
     ]
    }
   ],
   "source": [
    "#Fungsi\n",
    "def hello():\n",
    "    print (\"Hallo ini adalah fungsi\")\n",
    "    \n",
    "hello()"
   ]
  },
  {
   "cell_type": "code",
   "execution_count": 51,
   "metadata": {},
   "outputs": [
    {
     "data": {
      "text/plain": [
       "7"
      ]
     },
     "execution_count": 51,
     "metadata": {},
     "output_type": "execute_result"
    }
   ],
   "source": [
    "#Fungsi penambahan\n",
    "def add(a, b):\n",
    "    return a + b\n",
    "\n",
    "plus = add\n",
    "\n",
    "plus(3, 4)"
   ]
  },
  {
   "cell_type": "code",
   "execution_count": 56,
   "metadata": {},
   "outputs": [
    {
     "name": "stdout",
     "output_type": "stream",
     "text": [
      "7\n"
     ]
    }
   ],
   "source": [
    "#Lambda\n",
    "angka=(lambda a,b: a + b)\n",
    "print(angka(3,4))\n"
   ]
  },
  {
   "cell_type": "code",
   "execution_count": 67,
   "metadata": {},
   "outputs": [
    {
     "data": {
      "text/plain": [
       "720"
      ]
     },
     "execution_count": 67,
     "metadata": {},
     "output_type": "execute_result"
    }
   ],
   "source": [
    "#Functools\n",
    "from functools import reduce\n",
    "val =[1,2,3,4,5,6]\n",
    "list(map(lambda x:x * 2, val))\n",
    "reduce(lambda x, y: x * y, val, 1)\n"
   ]
  },
  {
   "cell_type": "code",
   "execution_count": 11,
   "metadata": {},
   "outputs": [
    {
     "data": {
      "text/plain": [
       "125"
      ]
     },
     "execution_count": 11,
     "metadata": {},
     "output_type": "execute_result"
    }
   ],
   "source": [
    "from functools import partial\n",
    "def power (base,exp):\n",
    "    return base **exp\n",
    "cube = partial (power, exp=3)\n",
    "cube(5)"
   ]
  },
  {
   "cell_type": "code",
   "execution_count": 70,
   "metadata": {},
   "outputs": [
    {
     "ename": "SyntaxError",
     "evalue": "invalid syntax (<ipython-input-70-b8386fd84cfa>, line 11)",
     "output_type": "error",
     "traceback": [
      "\u001b[1;36m  File \u001b[1;32m\"<ipython-input-70-b8386fd84cfa>\"\u001b[1;36m, line \u001b[1;32m11\u001b[0m\n\u001b[1;33m    raise exc\u001b[0m\n\u001b[1;37m        ^\u001b[0m\n\u001b[1;31mSyntaxError\u001b[0m\u001b[1;31m:\u001b[0m invalid syntax\n"
     ]
    }
   ],
   "source": [
    "#Decorators\n",
    "def retry(func):\n",
    "    def retried_function(*args, **kwargs):\n",
    "        exc = None\n",
    "        for _ in range(3):\n",
    "            try:\n",
    "               return func(*args, **kwargs)\n",
    "            except Exception as exc:\n",
    "                print(\"Exception raised while calling %s with args:%s, kwargs: %s. Retrying\" % (func, args, kwargs).\n",
    "\n",
    "        raise exc\n",
    "     return retried_function\n",
    "\n"
   ]
  },
  {
   "cell_type": "code",
   "execution_count": 44,
   "metadata": {},
   "outputs": [],
   "source": [
    "#Pure functions\n",
    "dictionary = ['fox', 'boss', 'orange', 'toes', 'fairy', 'cup']\n",
    "def puralize(words):\n",
    "    for i in range (len(words)):\n",
    "        word = words[i]\n",
    "        if word.endswith('s') or word.endswith('x'):\n",
    "            word += 'es'\n",
    "        if word.endswith('y'):\n",
    "            word = word [:-1] + 'ies'\n",
    "        \n",
    "        else:\n",
    "            word += 's'\n",
    "\n",
    "def test_pluralize():\n",
    "    pluralize(dictionary)\n",
    "    assert dictionary == ['foxes', 'bosses', 'oranges', 'toeses', 'fairies', 'cups']"
   ]
  },
  {
   "cell_type": "code",
   "execution_count": 40,
   "metadata": {},
   "outputs": [
    {
     "ename": "IndentationError",
     "evalue": "unindent does not match any outer indentation level (<tokenize>, line 13)",
     "output_type": "error",
     "traceback": [
      "\u001b[1;36m  File \u001b[1;32m\"<tokenize>\"\u001b[1;36m, line \u001b[1;32m13\u001b[0m\n\u001b[1;33m    return result\u001b[0m\n\u001b[1;37m    ^\u001b[0m\n\u001b[1;31mIndentationError\u001b[0m\u001b[1;31m:\u001b[0m unindent does not match any outer indentation level\n"
     ]
    }
   ],
   "source": [
    "dictionary = ['fox', 'boss', 'orange', 'toes', 'fairy', 'cup']\n",
    "def puralize(words):\n",
    "   result = []\n",
    "   for word in words:\n",
    "       word = words[i]\n",
    "       if word.endswith('s') or word.endswith('x')\n",
    "           plural = word + 'es')\n",
    "       if word.endswith('y'):\n",
    "           plural = word[:-1] + 'ies'\n",
    "       else:\n",
    "           plural = +  's'\n",
    "       result.append(plural)\n",
    "    return result\n",
    "\n",
    "def test_pluralize():\n",
    "    result = pluralize(dictionary)\n",
    "    assert result == ['foxes', 'bosses', 'oranges', 'toeses', 'fairies', 'cups']"
   ]
  },
  {
   "cell_type": "code",
   "execution_count": 27,
   "metadata": {},
   "outputs": [
    {
     "data": {
      "text/plain": [
       "['bar', 'foo', 'bar']"
      ]
     },
     "execution_count": 27,
     "metadata": {},
     "output_type": "execute_result"
    }
   ],
   "source": [
    "def add_bar(items=[]):\n",
    "    items.append('bar')\n",
    "    return items\n",
    "\n",
    "l = add_bar()  # l is ['bar']\n",
    "l.append('foo')\n",
    "add_bar() # returns ['bar', 'foo', 'bar']"
   ]
  },
  {
   "cell_type": "code",
   "execution_count": 28,
   "metadata": {},
   "outputs": [],
   "source": [
    "from collections import namedtuple\n",
    "VerbTenses = namedtuple('verbTenses', ['past', 'present','future'])\n",
    "#versus\n",
    "class VerbTenses(object):\n",
    "    def __init__(self, past, present, future):\n",
    "        self.past = past,\n",
    "        self.present = present\n",
    "        self.future = future"
   ]
  },
  {
   "cell_type": "code",
   "execution_count": 34,
   "metadata": {},
   "outputs": [
    {
     "data": {
      "text/plain": [
       "{'abe', 'bertha'}"
      ]
     },
     "execution_count": 34,
     "metadata": {},
     "output_type": "execute_result"
    }
   ],
   "source": [
    "class Bus(object):\n",
    "    passengers = set()\n",
    "    def add_passenger(self, person):\n",
    "        self.passengers.add(person)\n",
    "\n",
    "bus1 = Bus()\n",
    "bus2 = Bus()\n",
    "bus1.add_passenger('abe')\n",
    "bus2.add_passenger('bertha')\n",
    "bus1.passengers\n",
    "bus2.passengers"
   ]
  },
  {
   "cell_type": "code",
   "execution_count": 68,
   "metadata": {},
   "outputs": [
    {
     "name": "stdout",
     "output_type": "stream",
     "text": [
      "[2, 3, 4, 5, 6]\n"
     ]
    }
   ],
   "source": [
    "x = [1, 2, 3, 4, 5]\n",
    "A = list(map(lambda x: x+1,x))\n",
    "print(A)"
   ]
  },
  {
   "cell_type": "code",
   "execution_count": null,
   "metadata": {},
   "outputs": [],
   "source": []
  }
 ],
 "metadata": {
  "kernelspec": {
   "display_name": "Python 3",
   "language": "python",
   "name": "python3"
  },
  "language_info": {
   "codemirror_mode": {
    "name": "ipython",
    "version": 3
   },
   "file_extension": ".py",
   "mimetype": "text/x-python",
   "name": "python",
   "nbconvert_exporter": "python",
   "pygments_lexer": "ipython3",
   "version": "3.7.3"
  }
 },
 "nbformat": 4,
 "nbformat_minor": 2
}
